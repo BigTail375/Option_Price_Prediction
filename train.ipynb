{
 "cells": [
  {
   "cell_type": "code",
   "execution_count": null,
   "metadata": {},
   "outputs": [],
   "source": [
    "import pandas as pd\n",
    "import seaborn as sb\n",
    "import numpy as np\n",
    "from matplotlib import pyplot as plt\n",
    "from tensorflow.keras.models import Sequential\n",
    "from tensorflow.keras.layers import Dense\n",
    "from tensorflow.keras.layers import LSTM\n",
    "from tensorflow.keras.layers import Dropout\n",
    "from tensorflow.keras.layers import Flatten"
   ]
  },
  {
   "cell_type": "code",
   "execution_count": 59,
   "metadata": {},
   "outputs": [
    {
     "name": "stdout",
     "output_type": "stream",
     "text": [
      "(10000, 155) (10000, 2)\n"
     ]
    }
   ],
   "source": [
    "import numpy as np\n",
    "X = np.load('train/input_data1.npy')\n",
    "y = np.load('train/output_data1.npy')\n",
    "print(X.shape, y.shape)"
   ]
  },
  {
   "cell_type": "code",
   "execution_count": 60,
   "metadata": {},
   "outputs": [],
   "source": [
    "from sklearn.preprocessing import MinMaxScaler\n",
    "scaler = MinMaxScaler()\n",
    "X = scaler.fit_transform(X)"
   ]
  },
  {
   "cell_type": "code",
   "execution_count": 61,
   "metadata": {},
   "outputs": [],
   "source": [
    "def divide_data(data, train_rate, val_rate, test_rate):\n",
    "    train = data[0 : int(len(data) * train_rate)]\n",
    "    val = data[int(len(data) * train_rate) : int(len(data) * (train_rate + val_rate))]\n",
    "    test = data[int(len(data) * (train_rate + val_rate)) : len(data)]\n",
    "    return train, val, test"
   ]
  },
  {
   "cell_type": "code",
   "execution_count": null,
   "metadata": {},
   "outputs": [
    {
     "name": "stdout",
     "output_type": "stream",
     "text": [
      "(6000, 155)\n",
      "(6000, 2)\n"
     ]
    }
   ],
   "source": [
    "train_X, val_X, test_X = divide_data(X, 0.6, 0.2, 0.2)\n",
    "train_y, val_y, test_y = divide_data(y, 0.6, 0.2, 0.2)\n",
    "t = np.mean(train_y, axis = 1)\n",
    "t = t.reshape(-1, 1)\n",
    "train_y = t\n",
    "train_y"
   ]
  },
  {
   "cell_type": "code",
   "execution_count": 65,
   "metadata": {},
   "outputs": [],
   "source": [
    "X = np.expand_dims(X, axis = 2)"
   ]
  },
  {
   "cell_type": "code",
   "execution_count": 68,
   "metadata": {},
   "outputs": [],
   "source": [
    "# Build the model\n",
    "model = Sequential()\n",
    "model.add(LSTM(units=100, return_sequences=True, input_shape=(train_X.shape[1], 1)))\n",
    "model.add(Dropout(0.5))\n",
    "model.add(LSTM(units=100, return_sequences=True))\n",
    "model.add(Dropout(0.5))\n",
    "model.add(LSTM(units=100, return_sequences=True))\n",
    "model.add(Dropout(0.5))\n",
    "model.add(Flatten())\n",
    "model.add(Dense(units=2))\n",
    "model.compile(optimizer='adam', loss='MeanSquaredError', metrics=\\\n",
    "              ['mean_absolute_error'])"
   ]
  },
  {
   "cell_type": "code",
   "execution_count": 69,
   "metadata": {},
   "outputs": [
    {
     "name": "stdout",
     "output_type": "stream",
     "text": [
      "Epoch 1/100\n",
      "94/94 [==============================] - 43s 416ms/step - loss: 8214.6621 - mean_absolute_error: 51.3105 - val_loss: 75.5015 - val_mean_absolute_error: 4.9103\n",
      "Epoch 2/100\n",
      "94/94 [==============================] - 47s 500ms/step - loss: 5900.4302 - mean_absolute_error: 41.7690 - val_loss: 78.7198 - val_mean_absolute_error: 4.9677\n",
      "Epoch 3/100\n",
      "94/94 [==============================] - 47s 505ms/step - loss: 8078.4766 - mean_absolute_error: 48.7268 - val_loss: 68.7114 - val_mean_absolute_error: 6.1133\n",
      "Epoch 4/100\n",
      "94/94 [==============================] - 47s 499ms/step - loss: 8419.6123 - mean_absolute_error: 54.3279 - val_loss: 199.7448 - val_mean_absolute_error: 13.2690\n",
      "Epoch 5/100\n",
      "94/94 [==============================] - 47s 505ms/step - loss: 8193.7178 - mean_absolute_error: 55.0619 - val_loss: 118.6059 - val_mean_absolute_error: 9.7921\n",
      "Epoch 6/100\n",
      "94/94 [==============================] - 47s 499ms/step - loss: 5226.3188 - mean_absolute_error: 42.6151 - val_loss: 220.7716 - val_mean_absolute_error: 14.0055\n",
      "Epoch 7/100\n",
      "94/94 [==============================] - 47s 498ms/step - loss: 3371.7776 - mean_absolute_error: 34.0912 - val_loss: 78.5266 - val_mean_absolute_error: 5.3264\n",
      "Epoch 8/100\n",
      "94/94 [==============================] - 47s 500ms/step - loss: 2390.2390 - mean_absolute_error: 27.4816 - val_loss: 69.4444 - val_mean_absolute_error: 5.9439\n",
      "Epoch 9/100\n",
      "94/94 [==============================] - 47s 499ms/step - loss: 5160.2085 - mean_absolute_error: 42.8729 - val_loss: 692.8674 - val_mean_absolute_error: 25.3716\n",
      "Epoch 10/100\n",
      "94/94 [==============================] - 47s 498ms/step - loss: 3619.7124 - mean_absolute_error: 37.0743 - val_loss: 236.1472 - val_mean_absolute_error: 14.4515\n",
      "Epoch 11/100\n",
      "94/94 [==============================] - 47s 504ms/step - loss: 4008.1250 - mean_absolute_error: 38.1124 - val_loss: 248.2065 - val_mean_absolute_error: 14.8586\n",
      "Epoch 12/100\n",
      "94/94 [==============================] - 47s 504ms/step - loss: 3454.6609 - mean_absolute_error: 35.6250 - val_loss: 63.9823 - val_mean_absolute_error: 6.0034\n",
      "Epoch 13/100\n",
      "94/94 [==============================] - 48s 506ms/step - loss: 2948.2317 - mean_absolute_error: 32.3233 - val_loss: 59.2948 - val_mean_absolute_error: 5.0709\n",
      "Epoch 14/100\n",
      "94/94 [==============================] - 48s 510ms/step - loss: 2370.6963 - mean_absolute_error: 29.4856 - val_loss: 64.6556 - val_mean_absolute_error: 5.9757\n",
      "Epoch 15/100\n",
      "94/94 [==============================] - 48s 507ms/step - loss: 2555.6794 - mean_absolute_error: 30.9692 - val_loss: 81.2799 - val_mean_absolute_error: 5.0673\n",
      "Epoch 16/100\n",
      "94/94 [==============================] - 47s 505ms/step - loss: 2240.6660 - mean_absolute_error: 27.1692 - val_loss: 165.8160 - val_mean_absolute_error: 11.9028\n",
      "Epoch 17/100\n",
      "94/94 [==============================] - 48s 510ms/step - loss: 2756.4163 - mean_absolute_error: 32.1804 - val_loss: 68.4947 - val_mean_absolute_error: 6.5871\n",
      "Epoch 18/100\n",
      "94/94 [==============================] - 49s 518ms/step - loss: 2010.0114 - mean_absolute_error: 26.3319 - val_loss: 61.2558 - val_mean_absolute_error: 5.3955\n",
      "Epoch 19/100\n",
      "94/94 [==============================] - 48s 511ms/step - loss: 1730.2772 - mean_absolute_error: 23.6510 - val_loss: 63.2599 - val_mean_absolute_error: 6.0776\n",
      "Epoch 20/100\n",
      "94/94 [==============================] - 47s 505ms/step - loss: 2368.8291 - mean_absolute_error: 28.0801 - val_loss: 138.0731 - val_mean_absolute_error: 10.8593\n",
      "Epoch 21/100\n",
      "94/94 [==============================] - 48s 506ms/step - loss: 2017.1965 - mean_absolute_error: 25.7368 - val_loss: 56.2371 - val_mean_absolute_error: 5.9490\n",
      "Epoch 22/100\n",
      "94/94 [==============================] - 47s 498ms/step - loss: 2367.4915 - mean_absolute_error: 28.7241 - val_loss: 48.0702 - val_mean_absolute_error: 4.8217\n",
      "Epoch 23/100\n",
      "94/94 [==============================] - 47s 497ms/step - loss: 1577.4799 - mean_absolute_error: 22.4381 - val_loss: 63.0927 - val_mean_absolute_error: 5.1232\n",
      "Epoch 24/100\n",
      "94/94 [==============================] - 47s 496ms/step - loss: 1044.1039 - mean_absolute_error: 17.9341 - val_loss: 61.2823 - val_mean_absolute_error: 5.8776\n",
      "Epoch 25/100\n",
      "94/94 [==============================] - 48s 509ms/step - loss: 801.7680 - mean_absolute_error: 15.7524 - val_loss: 78.7375 - val_mean_absolute_error: 5.5085\n",
      "Epoch 26/100\n",
      "94/94 [==============================] - 47s 503ms/step - loss: 939.4523 - mean_absolute_error: 16.7724 - val_loss: 60.3044 - val_mean_absolute_error: 5.4299\n",
      "Epoch 27/100\n",
      "94/94 [==============================] - 48s 516ms/step - loss: 422.0371 - mean_absolute_error: 12.3069 - val_loss: 64.3923 - val_mean_absolute_error: 4.9501\n",
      "Epoch 28/100\n",
      "94/94 [==============================] - 47s 497ms/step - loss: 358.6084 - mean_absolute_error: 11.4997 - val_loss: 63.6351 - val_mean_absolute_error: 4.9488\n",
      "Epoch 29/100\n",
      "94/94 [==============================] - 47s 504ms/step - loss: 962.9637 - mean_absolute_error: 17.7735 - val_loss: 58.2315 - val_mean_absolute_error: 5.6157\n",
      "Epoch 30/100\n",
      "94/94 [==============================] - 47s 505ms/step - loss: 693.0264 - mean_absolute_error: 15.4488 - val_loss: 53.6642 - val_mean_absolute_error: 5.3701\n",
      "Epoch 31/100\n",
      "94/94 [==============================] - 48s 511ms/step - loss: 500.8105 - mean_absolute_error: 13.2169 - val_loss: 58.1572 - val_mean_absolute_error: 4.5902\n",
      "Epoch 32/100\n",
      "94/94 [==============================] - 48s 515ms/step - loss: 440.2423 - mean_absolute_error: 12.6376 - val_loss: 51.1150 - val_mean_absolute_error: 4.8912\n",
      "Epoch 33/100\n",
      "94/94 [==============================] - 47s 497ms/step - loss: 332.8966 - mean_absolute_error: 11.3147 - val_loss: 50.8405 - val_mean_absolute_error: 4.7013\n",
      "Epoch 34/100\n",
      "94/94 [==============================] - 48s 511ms/step - loss: 320.3535 - mean_absolute_error: 11.0754 - val_loss: 68.2917 - val_mean_absolute_error: 4.9770\n",
      "Epoch 35/100\n",
      "94/94 [==============================] - 48s 507ms/step - loss: 327.8728 - mean_absolute_error: 11.0304 - val_loss: 53.3306 - val_mean_absolute_error: 4.8456\n",
      "Epoch 36/100\n",
      "94/94 [==============================] - 47s 503ms/step - loss: 438.0329 - mean_absolute_error: 12.4489 - val_loss: 75.2125 - val_mean_absolute_error: 5.1632\n",
      "Epoch 37/100\n",
      "94/94 [==============================] - 47s 503ms/step - loss: 390.4290 - mean_absolute_error: 12.0079 - val_loss: 57.6672 - val_mean_absolute_error: 4.6379\n",
      "Epoch 38/100\n",
      "94/94 [==============================] - 47s 503ms/step - loss: 298.5352 - mean_absolute_error: 10.6886 - val_loss: 50.1436 - val_mean_absolute_error: 4.5516\n",
      "Epoch 39/100\n",
      "94/94 [==============================] - 47s 500ms/step - loss: 248.7868 - mean_absolute_error: 10.0327 - val_loss: 62.3828 - val_mean_absolute_error: 4.5876\n",
      "Epoch 40/100\n",
      "94/94 [==============================] - 46s 495ms/step - loss: 237.0824 - mean_absolute_error: 9.7847 - val_loss: 50.0281 - val_mean_absolute_error: 4.5368\n",
      "Epoch 41/100\n",
      "94/94 [==============================] - 47s 505ms/step - loss: 240.7615 - mean_absolute_error: 9.7908 - val_loss: 63.1231 - val_mean_absolute_error: 4.5699\n",
      "Epoch 42/100\n",
      "94/94 [==============================] - 48s 515ms/step - loss: 251.5287 - mean_absolute_error: 9.9155 - val_loss: 73.6017 - val_mean_absolute_error: 4.9598\n",
      "Epoch 43/100\n",
      "94/94 [==============================] - 49s 519ms/step - loss: 197.2345 - mean_absolute_error: 9.0694 - val_loss: 58.3951 - val_mean_absolute_error: 4.4670\n",
      "Epoch 44/100\n",
      "94/94 [==============================] - 49s 517ms/step - loss: 235.2441 - mean_absolute_error: 9.7658 - val_loss: 52.0521 - val_mean_absolute_error: 4.4459\n",
      "Epoch 45/100\n",
      "94/94 [==============================] - 49s 523ms/step - loss: 197.1751 - mean_absolute_error: 9.0331 - val_loss: 67.4405 - val_mean_absolute_error: 4.6839\n",
      "Epoch 46/100\n",
      "94/94 [==============================] - 49s 523ms/step - loss: 188.4567 - mean_absolute_error: 8.7430 - val_loss: 62.3683 - val_mean_absolute_error: 4.5935\n",
      "Epoch 47/100\n",
      "94/94 [==============================] - 48s 514ms/step - loss: 174.1157 - mean_absolute_error: 8.6291 - val_loss: 54.2430 - val_mean_absolute_error: 4.5093\n",
      "Epoch 48/100\n",
      "94/94 [==============================] - 48s 515ms/step - loss: 161.6873 - mean_absolute_error: 8.3358 - val_loss: 53.7374 - val_mean_absolute_error: 4.3320\n",
      "Epoch 49/100\n",
      "94/94 [==============================] - 48s 516ms/step - loss: 165.4492 - mean_absolute_error: 8.3422 - val_loss: 56.1953 - val_mean_absolute_error: 4.5205\n",
      "Epoch 50/100\n",
      "94/94 [==============================] - 48s 510ms/step - loss: 158.3979 - mean_absolute_error: 8.2277 - val_loss: 50.8330 - val_mean_absolute_error: 4.4510\n",
      "Epoch 51/100\n",
      "94/94 [==============================] - 48s 509ms/step - loss: 157.3014 - mean_absolute_error: 8.2481 - val_loss: 67.5812 - val_mean_absolute_error: 4.7329\n",
      "Epoch 52/100\n",
      "94/94 [==============================] - 47s 503ms/step - loss: 146.7398 - mean_absolute_error: 7.9594 - val_loss: 60.2427 - val_mean_absolute_error: 4.5228\n",
      "Epoch 53/100\n",
      "94/94 [==============================] - 48s 510ms/step - loss: 149.7693 - mean_absolute_error: 7.9440 - val_loss: 53.1883 - val_mean_absolute_error: 4.3793\n",
      "Epoch 54/100\n",
      "94/94 [==============================] - 48s 509ms/step - loss: 149.1223 - mean_absolute_error: 7.9749 - val_loss: 57.1240 - val_mean_absolute_error: 4.5137\n",
      "Epoch 55/100\n",
      "94/94 [==============================] - 48s 512ms/step - loss: 150.2811 - mean_absolute_error: 7.9607 - val_loss: 86.8363 - val_mean_absolute_error: 5.2258\n",
      "Epoch 56/100\n",
      "94/94 [==============================] - ETA: 0s - loss: 148.2235 - mean_absolute_error: 8.0412"
     ]
    }
   ],
   "source": [
    "history = model.fit(train_X, train_y, epochs=100, batch_size=64, validation_data=(val_X, val_y))"
   ]
  }
 ],
 "metadata": {
  "kernelspec": {
   "display_name": "Python 3",
   "language": "python",
   "name": "python3"
  },
  "language_info": {
   "codemirror_mode": {
    "name": "ipython",
    "version": 3
   },
   "file_extension": ".py",
   "mimetype": "text/x-python",
   "name": "python",
   "nbconvert_exporter": "python",
   "pygments_lexer": "ipython3",
   "version": "3.10.9"
  },
  "orig_nbformat": 4
 },
 "nbformat": 4,
 "nbformat_minor": 2
}
