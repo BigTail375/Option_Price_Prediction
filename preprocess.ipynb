{
 "cells": [
  {
   "cell_type": "code",
   "execution_count": 2,
   "metadata": {},
   "outputs": [],
   "source": [
    "import os\n",
    "import pandas as pd"
   ]
  },
  {
   "cell_type": "code",
   "execution_count": 3,
   "metadata": {},
   "outputs": [
    {
     "name": "stdout",
     "output_type": "stream",
     "text": [
      "['2013-01-02options.csv', '2013-01-03options.csv', '2013-01-04options.csv', '2013-01-07options.csv', '2013-01-08options.csv', '2013-01-09options.csv', '2013-01-10options.csv', '2013-01-11options.csv', '2013-01-14options.csv', '2013-01-15options.csv', '2013-01-16options.csv', '2013-01-17options.csv', '2013-01-18options.csv', '2013-01-22options.csv', '2013-01-23options.csv', '2013-01-24options.csv', '2013-01-25options.csv', '2013-01-28options.csv', '2013-01-29options.csv', '2013-01-30options.csv', '2013-01-31options.csv', '2013-02-01options.csv', '2013-02-04options.csv', '2013-02-05options.csv', '2013-02-06options.csv', '2013-02-07options.csv', '2013-02-08options.csv', '2013-02-11options.csv', '2013-02-12options.csv', '2013-02-13options.csv']\n",
      "['2013-01-02stocks.csv', '2013-01-03stocks.csv', '2013-01-04stocks.csv', '2013-01-07stocks.csv', '2013-01-08stocks.csv', '2013-01-09stocks.csv', '2013-01-10stocks.csv', '2013-01-11stocks.csv', '2013-01-14stocks.csv', '2013-01-15stocks.csv', '2013-01-16stocks.csv', '2013-01-17stocks.csv', '2013-01-18stocks.csv', '2013-01-22stocks.csv', '2013-01-23stocks.csv', '2013-01-24stocks.csv', '2013-01-25stocks.csv', '2013-01-28stocks.csv', '2013-01-29stocks.csv', '2013-01-30stocks.csv', '2013-01-31stocks.csv', '2013-02-01stocks.csv', '2013-02-04stocks.csv', '2013-02-05stocks.csv', '2013-02-06stocks.csv', '2013-02-07stocks.csv', '2013-02-08stocks.csv', '2013-02-11stocks.csv', '2013-02-12stocks.csv', '2013-02-13stocks.csv']\n"
     ]
    }
   ],
   "source": [
    "# loading the stocks and options file names\n",
    "options_dir = \"dataset/options/\"\n",
    "stocks_dir = \"dataset/stocks/\"\n",
    "\n",
    "options_files = os.listdir(options_dir)\n",
    "stocks_files = os.listdir(stocks_dir)\n",
    "print (options_files)\n",
    "print(stocks_files)"
   ]
  },
  {
   "cell_type": "code",
   "execution_count": 4,
   "metadata": {},
   "outputs": [],
   "source": [
    "(input_length, output_length) = (5, 1) # input time features and output time feautres\n",
    "time_interval = 1 # time interval\n",
    "offset = 0 # from where we have to load the code"
   ]
  },
  {
   "cell_type": "code",
   "execution_count": 5,
   "metadata": {},
   "outputs": [
    {
     "name": "stdout",
     "output_type": "stream",
     "text": [
      "                 contract underlying  expiration  type  strike style   bid  \\\n",
      "509814  ZX130622P00002500         ZX  2013-06-22   put     2.5     A  0.05   \n",
      "509815  ZX130622C00005000         ZX  2013-06-22  call     5.0     A  0.00   \n",
      "509816  ZX130622P00005000         ZX  2013-06-22   put     5.0     A  1.60   \n",
      "509817  ZX130622C00007500         ZX  2013-06-22  call     7.5     A  0.00   \n",
      "509818  ZX130622P00007500         ZX  2013-06-22   put     7.5     A  3.90   \n",
      "\n",
      "        bid_size  ask  ask_size  volume  open_interest  quote_date   delta  \\\n",
      "509814       NaN  0.4       NaN       0              0  2013-01-09 -0.1925   \n",
      "509815       NaN  0.3       NaN       0              0  2013-01-09  0.2188   \n",
      "509816       NaN  2.0       NaN       0              0  2013-01-09 -0.7815   \n",
      "509817       NaN  0.2       NaN       0              0  2013-01-09  0.1276   \n",
      "509818       NaN  4.4       NaN       0              0  2013-01-09 -0.9454   \n",
      "\n",
      "         gamma   theta    vega  implied_volatility  \n",
      "509814  0.1753 -0.5023  0.6160              0.6792  \n",
      "509815  0.2029 -0.4284  0.6639              0.6324  \n",
      "509816  0.2034 -0.5435  0.6173              0.5869  \n",
      "509817  0.1054 -0.4309  0.4712              0.8638  \n",
      "509818  0.0497 -0.2606  0.1509              0.5869  \n"
     ]
    }
   ],
   "source": [
    "# load the datasets\n",
    "options_input = []\n",
    "stocks_input = []\n",
    "options_output = []\n",
    "stocks_output = []\n",
    "\n",
    "i = offset\n",
    "for x in range(input_length):\n",
    "    options_input.append(pd.read_csv(options_dir + options_files[i]))\n",
    "    stocks_input.append(pd.read_csv(stocks_dir + stocks_files[i]))\n",
    "    i += time_interval\n",
    "for x in range(output_length):\n",
    "    options_output.append(pd.read_csv(options_dir + options_files[i]))\n",
    "    stocks_output.append(pd.read_csv(stocks_dir + stocks_files[i]))\n",
    "    i += time_interval\n",
    "print (options_output[0].tail())"
   ]
  },
  {
   "cell_type": "code",
   "execution_count": 6,
   "metadata": {},
   "outputs": [],
   "source": [
    "# reset the type of date\n",
    "for i in range(input_length):\n",
    "    options_input[i]['period'] = pd.to_datetime(options_input[i]['expiration']) - pd.to_datetime(options_input[i]['quote_date'])\n",
    "    options_input[i]['period'] = options_input[i]['period'].dt.days\n",
    "for i in range(output_length):\n",
    "    options_output[i]['period'] = pd.to_datetime(options_output[i]['expiration']) - pd.to_datetime(options_output[i]['quote_date'])\n",
    "    options_output[i]['period'] = options_output[i]['period'].dt.days"
   ]
  },
  {
   "cell_type": "code",
   "execution_count": 7,
   "metadata": {},
   "outputs": [],
   "source": [
    "OPTION_TYPE = ['call', 'put']\n",
    "STYLE = ['A', 'E']\n",
    "OPTION_VALUES = ['strike', 'bid', 'ask', 'volume', 'open_interest', 'delta', 'gamma', 'theta', 'vega', 'implied_volatility', 'period']\n",
    "STOCK_VALUES = ['open', 'high', 'low', 'close', 'volume']"
   ]
  },
  {
   "cell_type": "code",
   "execution_count": 8,
   "metadata": {},
   "outputs": [],
   "source": [
    "def create_one_hot_label(values, value):\n",
    "    t = [0 for i in range(len(values))]\n",
    "    t[values.index(value)] = 1\n",
    "    return t\n",
    "\n",
    "def create_one_X(contract, underlying, option_type, strike, style):\n",
    "    X = [float(strike)]\n",
    "    if option_type == 'call':\n",
    "        X.append(0)\n",
    "        X.append(1)\n",
    "    else:\n",
    "        X.append(1)\n",
    "        X.append(0)\n",
    "    if style == 'A':\n",
    "        X.append(0)\n",
    "        X.append(1)\n",
    "    else:\n",
    "        X.append(1)\n",
    "        X.append(0)\n",
    "    \n",
    "    for i in range(input_length):\n",
    "        df = options_input[i]\n",
    "        option = df[(df['contract'] == contract) & (df['underlying'] == underlying) & (df['type'] == option_type)]\n",
    "        df = stocks_input[i]\n",
    "        stock = df[df['symbol'] == underlying]\n",
    "        if len(option) == 0 or len(stock) == 0:\n",
    "            return []\n",
    "        for value in STOCK_VALUES:\n",
    "            X.append(float(stock[value]))\n",
    "        for value in OPTION_VALUES:\n",
    "            if value == 'strike': pass\n",
    "            else:\n",
    "                print(i,option[value], float(option[value]))\n",
    "                X.append(float(option[value]))\n",
    "\n",
    "    return X\n",
    "\n",
    "def create_one_y(contract, underlying, option_type):\n",
    "    y = []\n",
    "    for i in range(output_length):\n",
    "        df = options_output[i]\n",
    "        option = df[(df['contract'] == contract) & (df['underlying'] == underlying) & (df['type'] == option_type)]\n",
    "        if len(option) == 0:\n",
    "            return []\n",
    "        y.append(float(option['bid']))\n",
    "        y.append(float(option['ask']))\n",
    "    return y"
   ]
  },
  {
   "cell_type": "code",
   "execution_count": 33,
   "metadata": {},
   "outputs": [],
   "source": [
    "X = []\n",
    "y = []\n",
    "database = 10000\n",
    "last_index = 0\n",
    "for index, row in options_input[0].iterrows():\n",
    "    if len(X) >= database:\n",
    "        break\n",
    "    last_index = index\n",
    "    if row['period'] >= input_length + output_length:\n",
    "        X.append(create_one_X(row['contract'], row['underlying'], row['type'], row['strike'], row['style']))\n",
    "        y.append(create_one_y(row['contract'], row['underlying'], row['type']))"
   ]
  },
  {
   "cell_type": "code",
   "execution_count": 10,
   "metadata": {},
   "outputs": [],
   "source": [
    "# import multiprocessing\n",
    "# import numpy\n",
    "# from concurrent.futures import ThreadPoolExecutor\n",
    "# from multiprocessing import Pool, cpu_count\n",
    "\n",
    "# X = []\n",
    "# y = []\n",
    "# database = 100\n",
    "# last_index = 0\n",
    "\n",
    "# def process_row(row):\n",
    "#     if len(X) >= database:\n",
    "#         return\n",
    "#     if row['period'] >= input_length + output_length:\n",
    "#         tmp = create_one_X(row['contract'], row['underlying'], row['type'], row['strike'], row['style'])\n",
    "#         print(tmp)\n",
    "#         X.append(tmp)\n",
    "#         y.append(create_one_y(row['contract'], row['underlying'], row['type']))\n",
    "\n",
    "# with ThreadPoolExecutor() as executor:\n",
    "#     executor.map(process_row, [row for index, row in options_input[0].iterrows()])\n",
    "\n",
    "# num_processes = int(cpu_count() * 0.8)\n",
    "\n",
    "# with Pool(processes=num_processes) as pool:\n",
    "#     pool.map(process_row, [1])"
   ]
  },
  {
   "cell_type": "code",
   "execution_count": 34,
   "metadata": {},
   "outputs": [],
   "source": [
    "X = []\n",
    "y = []\n",
    "database = 10000\n",
    "last_index = 0\n",
    "for index, row in options_input[0][last_index:].iterrows():\n",
    "    if len(X) >= database:\n",
    "        break\n",
    "    last_index = index\n",
    "    if row['period'] >= input_length + output_length:\n",
    "        x_data = create_one_X(row['contract'], row['underlying'], row['type'], row['strike'], row['style'])\n",
    "        y_data = create_one_y(row['contract'], row['underlying'], row['type'])\n",
    "        if len(x_data) == 0 or len(y_data) == 0:\n",
    "            continue\n",
    "        X.append(x_data)\n",
    "        y.append(y_data)\n",
    "\n",
    "import numpy as np\n",
    "np.array(X, dtype=np.float32)\n",
    "np.array(y, dtype=np.float32)\n",
    "np.save('train/input_data.npy', X)\n",
    "np.save('train/output_data.npy', y)"
   ]
  }
 ],
 "metadata": {
  "kernelspec": {
   "display_name": "Python 3",
   "language": "python",
   "name": "python3"
  },
  "language_info": {
   "codemirror_mode": {
    "name": "ipython",
    "version": 3
   },
   "file_extension": ".py",
   "mimetype": "text/x-python",
   "name": "python",
   "nbconvert_exporter": "python",
   "pygments_lexer": "ipython3",
   "version": "3.10.9"
  },
  "orig_nbformat": 4
 },
 "nbformat": 4,
 "nbformat_minor": 2
}
